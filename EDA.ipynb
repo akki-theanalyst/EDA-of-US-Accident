{
 "cells": [
  {
   "cell_type": "code",
   "execution_count": 3,
   "id": "0a69350f-d70a-469a-be7c-5de05c649d45",
   "metadata": {},
   "outputs": [
    {
     "name": "stdout",
     "output_type": "stream",
     "text": [
      "Note: you may need to restart the kernel to use updated packages.\n"
     ]
    }
   ],
   "source": [
    "pip install opendatasets --upgrade --quiet"
   ]
  },
  {
   "cell_type": "code",
   "execution_count": null,
   "id": "958c17ba-70a4-4864-8f23-b354acab4baf",
   "metadata": {},
   "outputs": [
    {
     "name": "stdout",
     "output_type": "stream",
     "text": [
      "Please provide your Kaggle credentials to download this dataset. Learn more: http://bit.ly/kaggle-creds\n",
      "Your Kaggle username:"
     ]
    }
   ],
   "source": [
    "import opendatasets as od\n",
    "download_url = 'https://www.kaggle.com/datasets/sobhanmoosavi/us-accidents'\n",
    "od.download(download_url,force = True)"
   ]
  },
  {
   "cell_type": "code",
   "execution_count": null,
   "id": "90420d7a-c519-4d88-8c09-8aebd2cb6c60",
   "metadata": {},
   "outputs": [],
   "source": [
    "od.download"
   ]
  },
  {
   "cell_type": "code",
   "execution_count": null,
   "id": "88dfc414-b63a-4540-8029-c12fc56eed00",
   "metadata": {},
   "outputs": [],
   "source": [
    "import pandas as pd\n",
    "df = pd.read_csv('us-accidents/US_Accidents_March23.csv')\n"
   ]
  },
  {
   "cell_type": "code",
   "execution_count": null,
   "id": "c28110c5-206c-4eea-a67e-4e843e53e64d",
   "metadata": {},
   "outputs": [],
   "source": [
    "## DATA PREPARATION AND CLEANING USING PANDA."
   ]
  },
  {
   "cell_type": "code",
   "execution_count": null,
   "id": "d6e98f18-a6c7-485b-9fbd-cb123bcb3d10",
   "metadata": {},
   "outputs": [],
   "source": [
    "df"
   ]
  },
  {
   "cell_type": "code",
   "execution_count": null,
   "id": "da3d347d-96d2-4cb8-baa0-57321f177061",
   "metadata": {},
   "outputs": [],
   "source": [
    "## there is our dataset\n",
    "##  1. lets go through data to simplify the some information like number of column ,\n",
    "###     nuumber of rows, datatype of column etc."
   ]
  },
  {
   "cell_type": "code",
   "execution_count": null,
   "id": "4baf5050-8205-4ad8-ad42-d02b9f5e1482",
   "metadata": {},
   "outputs": [],
   "source": [
    "df.columns"
   ]
  },
  {
   "cell_type": "code",
   "execution_count": null,
   "id": "9eeb553b-078b-4b14-a779-4de21233419e",
   "metadata": {},
   "outputs": [],
   "source": [
    "df.info()"
   ]
  },
  {
   "cell_type": "code",
   "execution_count": null,
   "id": "7e083590-a471-44cb-a336-d502a7412af3",
   "metadata": {},
   "outputs": [],
   "source": [
    "### there are column which have numerical data. lets calculate some statistical\n",
    "##    information of that column in dataset."
   ]
  },
  {
   "cell_type": "code",
   "execution_count": null,
   "id": "f3f502d9-8b09-4109-83c1-66c37722f69a",
   "metadata": {},
   "outputs": [],
   "source": [
    "df.describe()"
   ]
  },
  {
   "cell_type": "code",
   "execution_count": null,
   "id": "6592d364-269c-40e6-b262-88c5f4ee7f25",
   "metadata": {},
   "outputs": [],
   "source": [
    "## lets check the missing value or nan in our dataset."
   ]
  },
  {
   "cell_type": "code",
   "execution_count": null,
   "id": "bc7eb661-1462-4b1f-bcfd-d1aaa28f40d5",
   "metadata": {},
   "outputs": [],
   "source": [
    "df.isna().sum()"
   ]
  },
  {
   "cell_type": "code",
   "execution_count": null,
   "id": "77453d25-165e-4226-83d0-eb13ad89e4b4",
   "metadata": {},
   "outputs": [],
   "source": [
    "## lets simplify our missing data more precisely and analyse how much is missing \n",
    "##   in certain column."
   ]
  },
  {
   "cell_type": "code",
   "execution_count": null,
   "id": "0ede4f1e-c10a-4761-b2be-8f152ea9f5c4",
   "metadata": {},
   "outputs": [],
   "source": [
    "missing_data = df.isna().sum().sort_values(ascending= False)/len(df)\n",
    "missing_data"
   ]
  },
  {
   "cell_type": "code",
   "execution_count": null,
   "id": "051ae902-3e49-4acc-9f14-6100623b45f7",
   "metadata": {},
   "outputs": [],
   "source": [
    "## Now see a horizontal graph of missing data"
   ]
  },
  {
   "cell_type": "code",
   "execution_count": null,
   "id": "1f48c370-0641-4554-b715-85126c348a5a",
   "metadata": {},
   "outputs": [],
   "source": [
    "missing_data[missing_data != 0]"
   ]
  },
  {
   "cell_type": "code",
   "execution_count": null,
   "id": "9965fccf-eb92-4e06-a072-5554a4cf7a2c",
   "metadata": {},
   "outputs": [],
   "source": [
    "missing_data.plot(kind = 'barh')"
   ]
  },
  {
   "cell_type": "code",
   "execution_count": null,
   "id": "f975f9d9-a7dc-4bb8-b412-a2ea3234d8e8",
   "metadata": {},
   "outputs": [],
   "source": [
    "### so there are 44 column and some column have less than 60% data. In such case\n",
    "###  we have pick some column  and do our analysis on that column. like cities\n"
   ]
  },
  {
   "cell_type": "code",
   "execution_count": null,
   "id": "9da7621f-df82-40c0-aaaf-ccd9b3faf1f9",
   "metadata": {},
   "outputs": [],
   "source": [
    "cities = df.City.value_counts()\n",
    "cities"
   ]
  },
  {
   "cell_type": "code",
   "execution_count": null,
   "id": "4a02d8af-d376-4b74-9f21-a2f71ce3d36f",
   "metadata": {},
   "outputs": [],
   "source": [
    "cities[:20].plot(kind = 'barh')"
   ]
  },
  {
   "cell_type": "code",
   "execution_count": null,
   "id": "f5d43b64-0057-40aa-94a9-66ec47918034",
   "metadata": {},
   "outputs": [],
   "source": [
    "cities"
   ]
  },
  {
   "cell_type": "code",
   "execution_count": null,
   "id": "6dfc02f8-85b7-472e-9ba6-08b3567a67e4",
   "metadata": {},
   "outputs": [],
   "source": []
  },
  {
   "cell_type": "code",
   "execution_count": null,
   "id": "30dbd42a-83fe-4082-ba08-b2f6a043ab8f",
   "metadata": {},
   "outputs": [],
   "source": []
  },
  {
   "cell_type": "code",
   "execution_count": null,
   "id": "0230c497-891a-429b-a85a-df1d208c07c7",
   "metadata": {},
   "outputs": [],
   "source": []
  },
  {
   "cell_type": "code",
   "execution_count": null,
   "id": "d5900005-be2a-4178-a2fc-0113eb46084a",
   "metadata": {},
   "outputs": [],
   "source": [
    "import seaborn as sns\n",
    "sns.set_style('darkgrid')"
   ]
  },
  {
   "cell_type": "markdown",
   "id": "5edf8540-38f1-4c73-ae07-059d69909286",
   "metadata": {},
   "source": [
    "## Analysis the data, Ask and answer question.\n",
    " 1. Are there more accident in warmer or colder areas ?\n",
    " 2. which state have the highest number of accidents ?\n",
    " 3. Among the top 100 cities in number of accidents, which states do they belong to most frequently."
   ]
  },
  {
   "cell_type": "code",
   "execution_count": null,
   "id": "fba2bc12-3584-4132-8617-a3324a8d8ea8",
   "metadata": {},
   "outputs": [],
   "source": []
  }
 ],
 "metadata": {
  "kernelspec": {
   "display_name": "Python 3 (ipykernel)",
   "language": "python",
   "name": "python3"
  },
  "language_info": {
   "codemirror_mode": {
    "name": "ipython",
    "version": 3
   },
   "file_extension": ".py",
   "mimetype": "text/x-python",
   "name": "python",
   "nbconvert_exporter": "python",
   "pygments_lexer": "ipython3",
   "version": "3.11.7"
  }
 },
 "nbformat": 4,
 "nbformat_minor": 5
}
